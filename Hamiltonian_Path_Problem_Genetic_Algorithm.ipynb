{
  "cells": [
    {
      "cell_type": "markdown",
      "metadata": {
        "id": "UuU23he_msf6"
      },
      "source": [
        "# Genetic Algorithm Assignment Andras Szivolics T00212479\n",
        "\n",
        "\n",
        "\n",
        "\n"
      ]
    },
    {
      "cell_type": "markdown",
      "metadata": {
        "id": "xOpdeYD9oLWi"
      },
      "source": [
        "##    **4x4 Hamiltonian Path Problem Genetic Algorithm**\n",
        "\n",
        "*   A mapping genetic algorithm that starts from a point on a square graph and must end on another defined point after landing on every other space once. The algorithm is not allowed to go over a space it has been on before other than the starting point. What are the paths the algorithm could take to get the soultion/s that fit with the rules. For this example the graph will be a simple 4x4 square.\n",
        "\n",
        "\n",
        "\n"
      ]
    },
    {
      "cell_type": "markdown",
      "metadata": {
        "id": "rWvzNi3uqCKy"
      },
      "source": [
        "*   Since there are many more paths that are incorrect than correct, and the shape of the graph could drastically alter the computational complexity of the amount of paths that are correct, it is approriate to apply the genetic algorithm to this problem even if for a simple 4x4 square to see if it can get the correct answers. With a bit of change to the code it would also be able to traverse a more complex graph where the answers are not as straightforward or if there are any correct answers at all."
      ]
    },
    {
      "cell_type": "markdown",
      "metadata": {
        "id": "0LgfBTtdq11F"
      },
      "source": [
        "# The problem and the cost function   **(~20%)**"
      ]
    },
    {
      "cell_type": "code",
      "execution_count": null,
      "metadata": {
        "id": "rwIdSMNqrPS5"
      },
      "outputs": [],
      "source": [
        "import random\n",
        "import numpy as np\n",
        "from copy import deepcopy"
      ]
    },
    {
      "cell_type": "code",
      "execution_count": null,
      "metadata": {
        "id": "h1EgXKd-469Y"
      },
      "outputs": [],
      "source": [
        "def graph_completion(chromosome):\n",
        " cost = 1\n",
        " for x in range(0, 17, 1):\n",
        "  if chromosome[x] == 0:\n",
        "   cost = cost + 1\n",
        " for x in range(0, 15, 1):\n",
        "   if(chromosome[x] != 0 and (chromosome[16] == 16)):\n",
        "     cost = 0\n",
        "     return cost\n",
        "\n",
        " return cost"
      ]
    },
    {
      "cell_type": "code",
      "execution_count": null,
      "metadata": {
        "id": "itDguJCZ2DiL"
      },
      "outputs": [],
      "source": [
        "class problem:\n",
        "  def __init__(self):\n",
        "    self.cost_function = graph_completion"
      ]
    },
    {
      "cell_type": "markdown",
      "metadata": {
        "id": "wBQQjO4brWFA"
      },
      "source": [
        "# The Individual **(~30%)**\n",
        "\n",
        "\n",
        "*   Chromosome\n",
        "*   Crossover\n",
        "*   Mutation\n",
        "\n"
      ]
    },
    {
      "cell_type": "code",
      "execution_count": null,
      "metadata": {
        "id": "aGgypOYSqls-"
      },
      "outputs": [],
      "source": [
        "import random\n",
        "import numpy as np\n",
        "from copy import deepcopy\n",
        "\n",
        "class individual:\n",
        " chromosone = None\n",
        "\n",
        "\n",
        " def border_check(index):\n",
        "       down = 4\n",
        "       left = -1\n",
        "       right = 1\n",
        "       up = -4\n",
        "       direction_list = [down, left, right, up]\n",
        "       direction = random.choice(direction_list)\n",
        "       possibleDestination = index+direction\n",
        "\n",
        "       if (possibleDestination < 1) or (possibleDestination >= 17) or (((index % 4) == 1) and (direction == left)) or (((index % 4) == 0) and (direction == right)):\n",
        "          correct_direction = individual.border_check(index)\n",
        "          return correct_direction\n",
        "\n",
        "       else:\n",
        "         return possibleDestination\n",
        "\n",
        " def create_initial_chromosomes():\n",
        "    chromosome = np.zeros(0, dtype = int)\n",
        "    chromosome = np.insert(chromosome, 0, 1)\n",
        "    cost = 0\n",
        "    graph_array = np.array([False, False, False, False,\n",
        "                                                False, False, False, False,\n",
        "                                                False, False, False, False,\n",
        "                                                False, False, False, False])\n",
        "\n",
        "    for x in range(1, 17, 1):\n",
        "     ideal = individual.border_check(chromosome[x-1])\n",
        "     if (graph_array[ideal-1] == False):\n",
        "      chromosome = np.insert(chromosome, x, ideal)\n",
        "      graph_array[chromosome[x]-1] = True;\n",
        "\n",
        "     else:\n",
        "        while(x != 17):\n",
        "         chromosome = np.insert(chromosome, x, 0)\n",
        "         x = x+1\n",
        "        break\n",
        "\n",
        "    return chromosome\n",
        "\n",
        "\n",
        " def __init__(self, prob):\n",
        "   self.chromosome = individual.create_initial_chromosomes()\n",
        "   self.cost = prob.cost_function(self.chromosome)\n",
        "\n",
        "\n",
        "\n",
        " def mutate_chromosome(chromosome, start_mutation):\n",
        "  mutated_chromosome = np.zeros(0, dtype = int)\n",
        "  mutated_chromosome = np.insert(mutated_chromosome, 0, 1)\n",
        "  graph_array = np.array([False, False, False, False,\n",
        "                                             False, False, False, False,\n",
        "                                             False, False, False, False,\n",
        "                                             False, False, False, False])\n",
        "  for x in range(1, start_mutation+1, 1):\n",
        "    mutated_chromosome = np.insert(mutated_chromosome, x, chromosome[x])\n",
        "    graph_array[chromosome[x]-1] = True;\n",
        "\n",
        "  for x in range(start_mutation+1, 17, 1):\n",
        "     ideal = individual.border_check(mutated_chromosome[x-1])\n",
        "     if (graph_array[ideal-1] == False):\n",
        "      mutated_chromosome = np.insert(mutated_chromosome, x, ideal)\n",
        "      graph_array[mutated_chromosome[x]-1] = True;\n",
        "\n",
        "     else:\n",
        "        while(x != 17):\n",
        "         mutated_chromosome = np.insert(mutated_chromosome, x, 0)\n",
        "         x = x+1\n",
        "        break\n",
        "\n",
        "  return mutated_chromosome\n",
        "\n",
        "\n",
        " def potentially_mutate(chromosome):\n",
        "  mutation_rate = 0.02\n",
        "  for x in range(1, 17, 1):\n",
        "   if(np.random.uniform() < mutation_rate and (chromosome.chromosome[x] != 0)):\n",
        "    mutated_chromosome = individual.mutate_chromosome(chromosome.chromosome, x)\n",
        "    chromosome.chromosome = mutated_chromosome\n",
        "    break\n",
        "\n",
        "  return chromosome\n",
        "\n",
        "\n",
        "\n",
        " def child1_crossover(self, parent2):\n",
        "  child1 = deepcopy(self)\n",
        "  parent1 = deepcopy(self)\n",
        "  child1 = np.zeros(0, dtype = int)\n",
        "  child1 = np.insert(child1, 0, 1)\n",
        "  for x in reversed(range(16)) :\n",
        "   for i in reversed(range(16)) :\n",
        "    if(parent1[x]  == parent2[i] and (parent1[x] != 0)):\n",
        "      for j in range(1, x+1, 1):\n",
        "       child1 = np.insert(child1, j, parent1[j])\n",
        "      a = x\n",
        "      for y in range(i+1, 17, 1):\n",
        "       for z in reversed(range(1, x)):\n",
        "        if(parent2[y] == parent1[z] and (parent2[y] != 0)):\n",
        "          return child1\n",
        "        if(parent2[y] == 0):\n",
        "         return child1\n",
        "       child1 = np.insert(child1, a+1, parent2[y])\n",
        "       a = a + 1\n",
        "      return child1\n",
        "\n",
        "\n",
        " def child2_crossover(self, parent2):\n",
        "  child2 = deepcopy(parent2)\n",
        "  parent1 = deepcopy(self)\n",
        "  child2 = np.zeros(0, dtype = int)\n",
        "  child2 = np.insert(child2, 0, 1)\n",
        "  for x in reversed(range(17)) :\n",
        "   for i in reversed(range(17)) :\n",
        "    if(parent1[i] == parent2[x] and (parent2[x] != 0)):\n",
        "      for j in range(1, x+1, 1):\n",
        "       child2 = np.insert(child2, j, parent2[j])\n",
        "      a = x\n",
        "      for y in range(i+1, 17, 1):\n",
        "       for z in reversed(range(1, x)):\n",
        "        if(parent1[y] == parent2[z] and (parent1[y] != 0)):\n",
        "          return child2\n",
        "        if(parent1[y] == 0):\n",
        "         return child2\n",
        "       child2 = np.insert(child2, a+1, parent1[y])\n",
        "       a = a + 1\n",
        "      return child2\n",
        "\n",
        "\n",
        " def crossover(self, parent2):\n",
        "  parent1 = deepcopy(self)\n",
        "  child1 = deepcopy(self)\n",
        "  child2 = deepcopy(parent2)\n",
        "  childtemp1 = individual.child1_crossover(parent1.chromosome, parent2.chromosome)\n",
        "  childtemp2 = individual.child2_crossover(parent1.chromosome, parent2.chromosome)\n",
        "  child1.chromosome = childtemp1\n",
        "  child2.chromosome = childtemp2\n",
        "  child1_cost = 0\n",
        "  child2_cost = 0\n",
        "  parent1_cost = 0\n",
        "  parent2_cost = 0\n",
        "  x = 0\n",
        "\n",
        "  while(x < 16):\n",
        "   if(parent1.chromosome[x] == 0):\n",
        "    parent1_cost = parent1_cost + 1\n",
        "\n",
        "   if(parent2.chromosome[x] == 0):\n",
        "    parent2_cost = parent2_cost + 1\n",
        "\n",
        "   x = x + 1\n",
        "\n",
        "  for b in range(1, 16, 1):\n",
        "   if(child1.chromosome[b] == child1.chromosome[-1] or (child1.chromosome[b] == 0)):\n",
        "    child1.chromosome = np.insert(child1.chromosome, b+1, 0)\n",
        "    child1_cost = child1_cost + 1\n",
        "   if(len(child1.chromosome) > 16):\n",
        "     break\n",
        "\n",
        "  for b in range(1, 16, 1):\n",
        "   if(child2.chromosome[b] == child2.chromosome[-1] or (child2.chromosome[b] == 0)):\n",
        "    child2.chromosome = np.insert(child2.chromosome, b+1, 0)\n",
        "    child2_cost = child2_cost + 1\n",
        "   if(len(child2.chromosome) > 16):\n",
        "     break\n",
        "\n",
        "  if(parent1_cost < child1_cost):\n",
        "   child1 = parent1\n",
        "\n",
        "  if(parent2_cost < child2_cost):\n",
        "   child2 = parent2\n",
        "\n",
        "  return child1, child2\n",
        "\n",
        "\n"
      ]
    },
    {
      "cell_type": "markdown",
      "metadata": {
        "id": "-Yr5xlW3rx21"
      },
      "source": [
        "## Discussion and justification on the approaches taken for the above"
      ]
    },
    {
      "cell_type": "markdown",
      "metadata": {
        "id": "-5eIa-LKsREQ"
      },
      "source": [
        "---\n",
        "\n",
        "*  The create_initial_chromosomes method creates the first generation of chromosomes and tests if the path they took is a legal path. It does this by creating a chromosome with an initial value of 1 at the start, this is because all paths in this problem have to start at position 1. It then goes through the check_border method which takes the value within a chromosome that is currently in the for loop, and gives it a legal direction to take. The value returned by check_border is then checked again if the potential path has been crossed before by checking if that position on the graph is set to true. If it hasn't, the chromosome at the specific position of it's array is set to the validated value, and the previous position it was in on the graph is set to true to mark it as being crossed once. When it inevitably reaches a dead end, it enters a while loop where the remainder of the chromosome gets filled with zeros which deermines it's cost. On top of that chromosomes will always have at least a cost of 1 if they do not end with 16. This is to filter through all the chromosomes that do map every position on the graph but just don't end in 16.\n",
        "\n",
        "* For the mutation, there are the potentially_mutate and the mutate_chromosome methods. Every chromosome will be put through the potentially_mutate method which cycles through each position of a chromosome with a set chance to mutate the chromosome. An approriate value I have found is around 0.02 as this only mutates a few chromosomes. When a chromosome does get mutated, it enters the mutate_chromsome method, which retraces the steps of the chromosome until the point the mutation occurs. It then enters another for loop which generates a new path from where the mutation occured. It does this through the same process as when the initial chromosomes were created, that is via the border_check method and filling the remainder with zeros. It then returns a mutated chromosome and replaces the initial one.\n",
        "\n",
        "* The crossover methods are made to find a common path in both chromosomes and to then swap their values from the first same number that is discovered. It creates two children by entering the child1_crossover and child2_crossover methods. It first sets a chromosome where the first value is 1, and enters two reversed loops where it tries to find the first common value between the two that isnt zero which starts at the end, and finishes at the start of the chromsome. If it does, it enters another for loop that populates the child chromosome with the values of the first parent up until the common value was found, after which it enters another for loop that populates the rest of the path with the other parent. It then returns the child chromsome when the path ends or if a value that is already in the child is found. For the corresponding crossover method the process is almost identical but with the parents swapped. The rest of the crossover function then populates the remainder of the child chromosomes with zeros. It also checks to see if the crossover resulted in a child with a higher cost function in which case it will set it equal to the parent it copied it's first numbers from. This step isn't neccesary however it does help ensure that the output will always have at worst the same cost function as the parent.\n",
        "\n",
        "* An example of what a crossover would look like; take two parents parent1: 1, 2, 6, 5, 4, 3, 0, 0.. and parent2: 1, 4, 8, 9, 10, 0, 0... Child1 would thus be: 1, 2, 6, 5, 4, 8, 9, 10, 0, 0.. and child2 would be 1, 5, 4, 0, 0... This also shows that a child that has a lower cost function than it's parents can be created using this crossover technique. Or another example where parent1 is 1, 5, 6, 2, 0, 0... parent2 is 1, 2, 1, 0, 0. Child1 would be 1, 5, 6, 2, 1, 0, 0.. and child2 would be 1, 2, 1, 5, 6, 0, 0.. Here both children have a lower cost function than their parents. There are of course scenarios in which both children have a higher cost function than their parents, in these cases both will be dropped.\n",
        "\n",
        "---\n",
        "\n"
      ]
    },
    {
      "cell_type": "markdown",
      "metadata": {
        "id": "59WmNNhiscZ9"
      },
      "source": [
        "## Running the algorithm  **(~10%)**\n",
        "\n",
        "*  From testing a good number for the population seems to be around 500 as it gives high success rates while not taking too long however it could be changed to other values for similar results. The generations has the same rationale. The mutation rate is set to 0.02 however this I did not set in the parameters class but rather in the mutation method. Any higher would produce varied results.\n"
      ]
    },
    {
      "cell_type": "code",
      "execution_count": null,
      "metadata": {
        "id": "qYE-UMBos_nR"
      },
      "outputs": [],
      "source": [
        "class parameters:\n",
        "  def __init__(self):\n",
        "    self.number_in_population = 500\n",
        "\n",
        "    self.maximum_number_of_generations = 200\n",
        "\n",
        "    self.child_rate =0.75\n",
        "\n",
        "    self.mutatation_rate = 0.2\n"
      ]
    },
    {
      "cell_type": "code",
      "execution_count": null,
      "metadata": {
        "id": "uMURavCWtEan"
      },
      "outputs": [],
      "source": [
        "def run_genetic(prob, params):\n",
        "\n",
        "  cost_function = prob.cost_function\n",
        "\n",
        "  number_in_population = params.number_in_population\n",
        "  max_number_of_iterations = params.maximum_number_of_generations\n",
        "  number_of_new_children_per_iteration = params.number_in_population*params.child_rate\n",
        "  mutation_rate = params.mutatation_rate\n",
        "\n",
        "\n",
        "  best_solution = individual(prob)\n",
        "  best_solution.cost = 999999\n",
        "\n",
        "\n",
        "\n",
        "  # Generate initial population\n",
        "  population = []\n",
        "  for x in range(number_in_population):\n",
        "    new_individual = individual(prob)\n",
        "    population.append(new_individual)\n",
        "    if new_individual.cost < best_solution.cost:\n",
        "      best_solution = deepcopy(new_individual)\n",
        "\n",
        "\n",
        "  print(\"Lowest cost chromosome without any mutation or crossover: \", best_solution.chromosome)\n",
        "\n",
        "\n",
        "  for iteration in range(max_number_of_iterations):\n",
        "    # generate children\n",
        "    children = []\n",
        "\n",
        "    while len(children) < number_of_new_children_per_iteration:\n",
        "      parent1_index, parent2_index = choose_two_indices_from(number_in_population)\n",
        "      parent1 = population[parent1_index]\n",
        "      parent2 = population[parent2_index]\n",
        "\n",
        "      child1, child2 = individual.crossover(parent1, parent2)\n",
        "      child1.potentially_mutate()\n",
        "      child2.potentially_mutate()\n",
        "\n",
        "      #cost of children\n",
        "      child1.cost = cost_function(child1.chromosome)\n",
        "      child2.cost = cost_function(child2.chromosome)\n",
        "\n",
        "\n",
        "      # add to children list\n",
        "      children.append(child1)\n",
        "      children.append(child2)\n",
        "\n",
        "\n",
        "    # add children to population\n",
        "    population += children\n",
        "\n",
        "    # sort the population\n",
        "    population = sorted(population,key= lambda x: x.cost)\n",
        "    # cull population\n",
        "    population = population[:number_in_population]\n",
        "\n",
        "    # retrieve best solution\n",
        "    if population[0].cost<best_solution.cost:\n",
        "      best_solution = deepcopy(population[0])\n",
        "\n",
        "\n",
        "\n",
        "\n",
        "  print(\"Lowest cost chromosome after crossover and mutation: \", best_solution.chromosome)\n",
        "  print(\"Lowest cost chromosome cost: \", best_solution.cost)\n",
        "\n",
        "\n",
        "\n",
        "  return population, best_solution\n"
      ]
    },
    {
      "cell_type": "code",
      "execution_count": null,
      "metadata": {
        "id": "gZMZcSIdkyzT"
      },
      "outputs": [],
      "source": [
        "def choose_two_indices_from(max_number):\n",
        "  ind1 = np.random.randint(max_number)\n",
        "  ind2 = np.random.randint(max_number)\n",
        "  if ind1 == ind2:\n",
        "    return choose_two_indices_from(max_number)\n",
        "\n",
        "  return ind1,ind2\n"
      ]
    },
    {
      "cell_type": "code",
      "execution_count": null,
      "metadata": {
        "id": "FNOmAF_COY5v"
      },
      "outputs": [],
      "source": [
        "params = parameters()\n",
        "prob = problem()"
      ]
    },
    {
      "cell_type": "code",
      "execution_count": null,
      "metadata": {
        "colab": {
          "base_uri": "https://localhost:8080/"
        },
        "id": "L22L6Zy2JLJp",
        "outputId": "e414e911-f0fe-42a0-8a24-e31d050d5ba4"
      },
      "outputs": [
        {
          "output_type": "stream",
          "name": "stdout",
          "text": [
            "Lowest cost chromosome without any mutation or crossover:  [ 1  5  6  2  3  4  8 12 11 10 14 13  0  0  0  0  0]\n",
            "Lowest cost chromosome after crossover and mutation:  [ 1  2  1  5  6 10  9 13 14 15 11  7  3  4  8 12 16]\n",
            "Lowest cost chromosome cost:  0\n",
            "Lowest cost chromosome without any mutation or crossover:  [ 1  5  9 13 14 10 11 12  8  7  3  2  1  0  0  0  0]\n",
            "Lowest cost chromosome after crossover and mutation:  [ 1  2  1  5  6 10  9 13 14 15 11  7  3  4  8 12 16]\n",
            "Lowest cost chromosome cost:  0\n",
            "Lowest cost chromosome without any mutation or crossover:  [ 1  5  9 13 14 10  6  7  3  4  8 12 11  0  0  0  0]\n",
            "Lowest cost chromosome after crossover and mutation:  [ 1  5  1  2  6  7  3  4  8 12 11 10  9 13 14 15 16]\n",
            "Lowest cost chromosome cost:  0\n",
            "Lowest cost chromosome without any mutation or crossover:  [ 1  5  9 13 14 15 11 12  8  7  6  2  3  0  0  0  0]\n",
            "Lowest cost chromosome after crossover and mutation:  [ 1  2  1  5  6 10  9 13 14 15 11  7  3  4  8 12 16]\n",
            "Lowest cost chromosome cost:  0\n",
            "Lowest cost chromosome without any mutation or crossover:  [ 1  2  3  4  8 12 16 15 14 13  9  5  1  0  0  0  0]\n",
            "Lowest cost chromosome after crossover and mutation:  [ 1  5  1  2  6 10 11  7  3  4  8 12 16 15 14 13  9]\n",
            "Lowest cost chromosome cost:  1\n"
          ]
        }
      ],
      "source": [
        "  run1 = run_genetic(prob, params)\n",
        "  run2 = run_genetic(prob, params)\n",
        "  run3 = run_genetic(prob, params)\n",
        "  run4 = run_genetic(prob, params)\n",
        "  run5 = run_genetic(prob, params)\n",
        "\n",
        "\n",
        ""
      ]
    },
    {
      "cell_type": "markdown",
      "metadata": {
        "id": "Hupr4W2_tmZA"
      },
      "source": [
        "## Results and conclusions    **(~10%)**\n",
        "\n",
        "* Without any mutation or crossover the solution can get roughly about 14 numbers close to the solution out of the 17 when the population is set to 10000. This is not much different compared to setting the population to 1000 showing that in order to get all 17 numbers it gets exponentially less likely without crossover or mutation. However with crossover and mutation the answer can be attained and the correct answer can be seen when the chromosome cost is 0, which is when all 17 places are filled with legal moves and it ends with 16. This shows the genetic algorithm is ideal for finding hamiltonian paths with smaller spaces at minimum. Also take notice that the path taken for mutiple of the correct final results can differ. It can start 1, 2, 1, or 1, 5, 1, it can also end up with ..14, 15, 16, or 11, 12, 16  or 11, 15, 16. All of the paths taken can easily be checked if they are a legal path by tracing it on a 4x4 grid.\n",
        "\n",
        "* This can be further tested without any mutation or crossover to see how effective the algorithm can be without these two. For this problem they are both crucial for achieving the correct result, especially the crossover. The difference can be seen from the lowest cost initial chromosome always being lower than the lowest cost chromosome after crossover and mutation. The correct answer shows up roughly 4/5 times from when I ran it. I now need to go to sleep as I have spent far too much time on this project that is worth 30% It was a fun assignment however. And the amount of errors encountered that took hours to fix was an amount to say the least. The check_borders validation also had to be changed from the initial as I changed the chromosomes to start with 1 rather than 0 to make it easier to calculate the cost function."
      ]
    },
    {
      "cell_type": "markdown",
      "metadata": {
        "id": "ZVdXtBs_xszh"
      },
      "source": [
        "## **References**\n",
        "https://mathworld.wolfram.com/HamiltonianPath.html\n",
        "\n",
        "https://www.youtube.com/watch?v=ZKh6z0X6KRw\n",
        "\n",
        "https://colab.research.google.com/drive/1PoBnqi-BbMdtT-f29_4dogH8jbqtu3hi"
      ]
    }
  ],
  "metadata": {
    "colab": {
      "provenance": []
    },
    "kernelspec": {
      "display_name": "Python 3",
      "name": "python3"
    },
    "language_info": {
      "name": "python"
    }
  },
  "nbformat": 4,
  "nbformat_minor": 0
}